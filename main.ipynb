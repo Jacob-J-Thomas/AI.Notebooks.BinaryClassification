{
  "cells": [
    {
      "cell_type": "markdown",
      "source": [
        "# Import Dependencies/Data and Instantiate Objects"
      ],
      "metadata": {
        "nteract": {
          "transient": {
            "deleting": false
          }
        }
      }
    },
    {
      "cell_type": "code",
      "source": [
        "%pip install torch\n",
        "%pip install mltable\n",
        "\n",
        "import os\n",
        "import numpy as np\n",
        "import pandas as pd\n",
        "import torch\n",
        "from torch import utils, nn, optim\n",
        "import torch.nn as nn\n",
        "from torch.optim import AdamW\n",
        "from torch.utils.data import Dataset, DataLoader\n",
        "# import torchtext.functional as F\n",
        "from azure.ai.ml.entities import DataImport\n",
        "from azure.ai.ml.data_transfer import Database\n",
        "from azure.ai.ml import MLClient\n",
        "from azure.identity import DefaultAzureCredential\n",
        "import mltable\n",
        "import math\n",
        "\n",
        "# authenticate and create client\n",
        "credential = DefaultAzureCredential()\n",
        "\n",
        "# ml_client = MLClient.from_config(credential=DefaultAzureCredential())\n",
        "ml_client = MLClient(\n",
        "    credential=credential,\n",
        "    subscription_id=\"1dc97be4-3550-41c0-b2a9-cfdd85ea7713\",\n",
        "    resource_group_name=\"ResourceGroup-AI-ML\",\n",
        "    workspace_name=\"Thomas-AIServices-1\"\n",
        ")\n",
        "\n",
        "# import data set and convert to Pandas table\n",
        "ml_data_asset = ml_client.data.get(\"TitanicDataAsset\", version=\"1\")\n",
        "# path_to_data_asset = { 'file': ml_data_asset.Path }\n",
        "# ml_table = mltable.from_delimited_files(paths=[path_to_data_asset])\n",
        "# pd_data_frame = ml_table.to_pandas_dataframe()\n",
        "\n",
        "# priont top 5 results to validate data ingestion\n",
        "pd_data_frame = pd.read_csv(ml_data_asset.path)\n",
        "pd_data_frame.head()"
      ],
      "outputs": [
        {
          "output_type": "stream",
          "name": "stdout",
          "text": "Requirement already satisfied: torch in /anaconda/envs/azureml_py310_sdkv2/lib/python3.10/site-packages (2.1.2)\nRequirement already satisfied: filelock in /anaconda/envs/azureml_py310_sdkv2/lib/python3.10/site-packages (from torch) (3.12.2)\nRequirement already satisfied: typing-extensions in /anaconda/envs/azureml_py310_sdkv2/lib/python3.10/site-packages (from torch) (4.6.3)\nRequirement already satisfied: sympy in /anaconda/envs/azureml_py310_sdkv2/lib/python3.10/site-packages (from torch) (1.12)\nRequirement already satisfied: networkx in /anaconda/envs/azureml_py310_sdkv2/lib/python3.10/site-packages (from torch) (3.1)\nRequirement already satisfied: jinja2 in /anaconda/envs/azureml_py310_sdkv2/lib/python3.10/site-packages (from torch) (3.1.2)\nRequirement already satisfied: fsspec in /anaconda/envs/azureml_py310_sdkv2/lib/python3.10/site-packages (from torch) (2023.6.0)\nRequirement already satisfied: nvidia-cuda-nvrtc-cu12==12.1.105 in /anaconda/envs/azureml_py310_sdkv2/lib/python3.10/site-packages (from torch) (12.1.105)\nRequirement already satisfied: nvidia-cuda-runtime-cu12==12.1.105 in /anaconda/envs/azureml_py310_sdkv2/lib/python3.10/site-packages (from torch) (12.1.105)\nRequirement already satisfied: nvidia-cuda-cupti-cu12==12.1.105 in /anaconda/envs/azureml_py310_sdkv2/lib/python3.10/site-packages (from torch) (12.1.105)\nRequirement already satisfied: nvidia-cudnn-cu12==8.9.2.26 in /anaconda/envs/azureml_py310_sdkv2/lib/python3.10/site-packages (from torch) (8.9.2.26)\nRequirement already satisfied: nvidia-cublas-cu12==12.1.3.1 in /anaconda/envs/azureml_py310_sdkv2/lib/python3.10/site-packages (from torch) (12.1.3.1)\nRequirement already satisfied: nvidia-cufft-cu12==11.0.2.54 in /anaconda/envs/azureml_py310_sdkv2/lib/python3.10/site-packages (from torch) (11.0.2.54)\nRequirement already satisfied: nvidia-curand-cu12==10.3.2.106 in /anaconda/envs/azureml_py310_sdkv2/lib/python3.10/site-packages (from torch) (10.3.2.106)\nRequirement already satisfied: nvidia-cusolver-cu12==11.4.5.107 in /anaconda/envs/azureml_py310_sdkv2/lib/python3.10/site-packages (from torch) (11.4.5.107)\nRequirement already satisfied: nvidia-cusparse-cu12==12.1.0.106 in /anaconda/envs/azureml_py310_sdkv2/lib/python3.10/site-packages (from torch) (12.1.0.106)\nRequirement already satisfied: nvidia-nccl-cu12==2.18.1 in /anaconda/envs/azureml_py310_sdkv2/lib/python3.10/site-packages (from torch) (2.18.1)\nRequirement already satisfied: nvidia-nvtx-cu12==12.1.105 in /anaconda/envs/azureml_py310_sdkv2/lib/python3.10/site-packages (from torch) (12.1.105)\nRequirement already satisfied: triton==2.1.0 in /anaconda/envs/azureml_py310_sdkv2/lib/python3.10/site-packages (from torch) (2.1.0)\nRequirement already satisfied: nvidia-nvjitlink-cu12 in /anaconda/envs/azureml_py310_sdkv2/lib/python3.10/site-packages (from nvidia-cusolver-cu12==11.4.5.107->torch) (12.3.101)\nRequirement already satisfied: MarkupSafe>=2.0 in /anaconda/envs/azureml_py310_sdkv2/lib/python3.10/site-packages (from jinja2->torch) (2.1.3)\nRequirement already satisfied: mpmath>=0.19 in /anaconda/envs/azureml_py310_sdkv2/lib/python3.10/site-packages (from sympy->torch) (1.3.0)\nNote: you may need to restart the kernel to use updated packages.\nRequirement already satisfied: mltable in /anaconda/envs/azureml_py310_sdkv2/lib/python3.10/site-packages (1.4.1)\nRequirement already satisfied: azureml-dataprep[parquet]<4.12.0a,>=4.11.1 in /anaconda/envs/azureml_py310_sdkv2/lib/python3.10/site-packages (from mltable) (4.11.3)\nRequirement already satisfied: pyyaml<7.0.0,>=5.1.0 in /anaconda/envs/azureml_py310_sdkv2/lib/python3.10/site-packages (from mltable) (6.0)\nRequirement already satisfied: jsonschema<5.0.0,>=4.0.0 in /anaconda/envs/azureml_py310_sdkv2/lib/python3.10/site-packages (from mltable) (4.17.3)\nRequirement already satisfied: msrest>=0.6.18 in /anaconda/envs/azureml_py310_sdkv2/lib/python3.10/site-packages (from mltable) (0.7.1)\nRequirement already satisfied: azure-core!=1.22.0,<2.0.0,>=1.8.0 in /anaconda/envs/azureml_py310_sdkv2/lib/python3.10/site-packages (from mltable) (1.27.1)\nRequirement already satisfied: azure-mgmt-core<2.0.0,>=1.3.0 in /anaconda/envs/azureml_py310_sdkv2/lib/python3.10/site-packages (from mltable) (1.4.0)\nRequirement already satisfied: python-dateutil<3.0.0,>=2.7.3 in /anaconda/envs/azureml_py310_sdkv2/lib/python3.10/site-packages (from mltable) (2.8.2)\nRequirement already satisfied: cryptography!=1.9,!=2.0.*,!=2.1.*,!=2.2.* in /anaconda/envs/azureml_py310_sdkv2/lib/python3.10/site-packages (from mltable) (41.0.1)\nRequirement already satisfied: PyJWT<3.0.0 in /anaconda/envs/azureml_py310_sdkv2/lib/python3.10/site-packages (from mltable) (2.7.0)\nRequirement already satisfied: pytz in /anaconda/envs/azureml_py310_sdkv2/lib/python3.10/site-packages (from mltable) (2023.3)\nRequirement already satisfied: requests>=2.18.4 in /anaconda/envs/azureml_py310_sdkv2/lib/python3.10/site-packages (from azure-core!=1.22.0,<2.0.0,>=1.8.0->mltable) (2.31.0)\nRequirement already satisfied: six>=1.11.0 in /anaconda/envs/azureml_py310_sdkv2/lib/python3.10/site-packages (from azure-core!=1.22.0,<2.0.0,>=1.8.0->mltable) (1.16.0)\nRequirement already satisfied: typing-extensions>=4.3.0 in /anaconda/envs/azureml_py310_sdkv2/lib/python3.10/site-packages (from azure-core!=1.22.0,<2.0.0,>=1.8.0->mltable) (4.6.3)\nRequirement already satisfied: dotnetcore2<4.0.0,>=3.0.0 in /anaconda/envs/azureml_py310_sdkv2/lib/python3.10/site-packages (from azureml-dataprep[parquet]<4.12.0a,>=4.11.1->mltable) (3.1.23)\nRequirement already satisfied: azureml-dataprep-native<39.0.0,>=38.0.0 in /anaconda/envs/azureml_py310_sdkv2/lib/python3.10/site-packages (from azureml-dataprep[parquet]<4.12.0a,>=4.11.1->mltable) (38.0.0)\nRequirement already satisfied: azureml-dataprep-rslex~=2.18.3dev0 in /anaconda/envs/azureml_py310_sdkv2/lib/python3.10/site-packages (from azureml-dataprep[parquet]<4.12.0a,>=4.11.1->mltable) (2.18.3)\nRequirement already satisfied: cloudpickle<3.0.0,>=1.1.0 in /anaconda/envs/azureml_py310_sdkv2/lib/python3.10/site-packages (from azureml-dataprep[parquet]<4.12.0a,>=4.11.1->mltable) (2.2.1)\nRequirement already satisfied: azure-identity>=1.7.0 in /anaconda/envs/azureml_py310_sdkv2/lib/python3.10/site-packages (from azureml-dataprep[parquet]<4.12.0a,>=4.11.1->mltable) (1.13.0)\nRequirement already satisfied: pyarrow<=9.0.0,>=0.17.0 in /anaconda/envs/azureml_py310_sdkv2/lib/python3.10/site-packages (from azureml-dataprep[parquet]<4.12.0a,>=4.11.1->mltable) (9.0.0)\nRequirement already satisfied: cffi>=1.12 in /anaconda/envs/azureml_py310_sdkv2/lib/python3.10/site-packages (from cryptography!=1.9,!=2.0.*,!=2.1.*,!=2.2.*->mltable) (1.15.1)\nRequirement already satisfied: attrs>=17.4.0 in /anaconda/envs/azureml_py310_sdkv2/lib/python3.10/site-packages (from jsonschema<5.0.0,>=4.0.0->mltable) (23.1.0)\nRequirement already satisfied: pyrsistent!=0.17.0,!=0.17.1,!=0.17.2,>=0.14.0 in /anaconda/envs/azureml_py310_sdkv2/lib/python3.10/site-packages (from jsonschema<5.0.0,>=4.0.0->mltable) (0.19.3)\nRequirement already satisfied: certifi>=2017.4.17 in /anaconda/envs/azureml_py310_sdkv2/lib/python3.10/site-packages (from msrest>=0.6.18->mltable) (2023.5.7)\nRequirement already satisfied: isodate>=0.6.0 in /anaconda/envs/azureml_py310_sdkv2/lib/python3.10/site-packages (from msrest>=0.6.18->mltable) (0.6.1)\nRequirement already satisfied: requests-oauthlib>=0.5.0 in /anaconda/envs/azureml_py310_sdkv2/lib/python3.10/site-packages (from msrest>=0.6.18->mltable) (1.3.1)\nRequirement already satisfied: msal<2.0.0,>=1.20.0 in /anaconda/envs/azureml_py310_sdkv2/lib/python3.10/site-packages (from azure-identity>=1.7.0->azureml-dataprep[parquet]<4.12.0a,>=4.11.1->mltable) (1.22.0)\nRequirement already satisfied: msal-extensions<2.0.0,>=0.3.0 in /anaconda/envs/azureml_py310_sdkv2/lib/python3.10/site-packages (from azure-identity>=1.7.0->azureml-dataprep[parquet]<4.12.0a,>=4.11.1->mltable) (1.0.0)\nRequirement already satisfied: pycparser in /anaconda/envs/azureml_py310_sdkv2/lib/python3.10/site-packages (from cffi>=1.12->cryptography!=1.9,!=2.0.*,!=2.1.*,!=2.2.*->mltable) (2.21)\nRequirement already satisfied: distro>=1.2.0 in /anaconda/envs/azureml_py310_sdkv2/lib/python3.10/site-packages (from dotnetcore2<4.0.0,>=3.0.0->azureml-dataprep[parquet]<4.12.0a,>=4.11.1->mltable) (1.8.0)\nRequirement already satisfied: numpy>=1.16.6 in /anaconda/envs/azureml_py310_sdkv2/lib/python3.10/site-packages (from pyarrow<=9.0.0,>=0.17.0->azureml-dataprep[parquet]<4.12.0a,>=4.11.1->mltable) (1.25.0)\nRequirement already satisfied: charset-normalizer<4,>=2 in /anaconda/envs/azureml_py310_sdkv2/lib/python3.10/site-packages (from requests>=2.18.4->azure-core!=1.22.0,<2.0.0,>=1.8.0->mltable) (3.1.0)\nRequirement already satisfied: idna<4,>=2.5 in /anaconda/envs/azureml_py310_sdkv2/lib/python3.10/site-packages (from requests>=2.18.4->azure-core!=1.22.0,<2.0.0,>=1.8.0->mltable) (3.4)\nRequirement already satisfied: urllib3<3,>=1.21.1 in /anaconda/envs/azureml_py310_sdkv2/lib/python3.10/site-packages (from requests>=2.18.4->azure-core!=1.22.0,<2.0.0,>=1.8.0->mltable) (1.26.16)\nRequirement already satisfied: oauthlib>=3.0.0 in /anaconda/envs/azureml_py310_sdkv2/lib/python3.10/site-packages (from requests-oauthlib>=0.5.0->msrest>=0.6.18->mltable) (3.2.2)\nRequirement already satisfied: portalocker<3,>=1.0 in /anaconda/envs/azureml_py310_sdkv2/lib/python3.10/site-packages (from msal-extensions<2.0.0,>=0.3.0->azure-identity>=1.7.0->azureml-dataprep[parquet]<4.12.0a,>=4.11.1->mltable) (2.7.0)\nNote: you may need to restart the kernel to use updated packages.\n"
        },
        {
          "output_type": "execute_result",
          "execution_count": 6,
          "data": {
            "text/plain": "   PassengerId  Survived  Pclass  \\\n0            1         0       3   \n1            2         1       1   \n2            3         1       3   \n3            4         1       1   \n4            5         0       3   \n\n                                                Name     Sex   Age  SibSp  \\\n0                            Braund, Mr. Owen Harris    male  22.0      1   \n1  Cumings, Mrs. John Bradley (Florence Briggs Th...  female  38.0      1   \n2                             Heikkinen, Miss. Laina  female  26.0      0   \n3       Futrelle, Mrs. Jacques Heath (Lily May Peel)  female  35.0      1   \n4                           Allen, Mr. William Henry    male  35.0      0   \n\n   Parch            Ticket     Fare Cabin Embarked  \n0      0         A/5 21171   7.2500   NaN        S  \n1      0          PC 17599  71.2833   C85        C  \n2      0  STON/O2. 3101282   7.9250   NaN        S  \n3      0            113803  53.1000  C123        S  \n4      0            373450   8.0500   NaN        S  ",
            "text/html": "<div>\n<style scoped>\n    .dataframe tbody tr th:only-of-type {\n        vertical-align: middle;\n    }\n\n    .dataframe tbody tr th {\n        vertical-align: top;\n    }\n\n    .dataframe thead th {\n        text-align: right;\n    }\n</style>\n<table border=\"1\" class=\"dataframe\">\n  <thead>\n    <tr style=\"text-align: right;\">\n      <th></th>\n      <th>PassengerId</th>\n      <th>Survived</th>\n      <th>Pclass</th>\n      <th>Name</th>\n      <th>Sex</th>\n      <th>Age</th>\n      <th>SibSp</th>\n      <th>Parch</th>\n      <th>Ticket</th>\n      <th>Fare</th>\n      <th>Cabin</th>\n      <th>Embarked</th>\n    </tr>\n  </thead>\n  <tbody>\n    <tr>\n      <th>0</th>\n      <td>1</td>\n      <td>0</td>\n      <td>3</td>\n      <td>Braund, Mr. Owen Harris</td>\n      <td>male</td>\n      <td>22.0</td>\n      <td>1</td>\n      <td>0</td>\n      <td>A/5 21171</td>\n      <td>7.2500</td>\n      <td>NaN</td>\n      <td>S</td>\n    </tr>\n    <tr>\n      <th>1</th>\n      <td>2</td>\n      <td>1</td>\n      <td>1</td>\n      <td>Cumings, Mrs. John Bradley (Florence Briggs Th...</td>\n      <td>female</td>\n      <td>38.0</td>\n      <td>1</td>\n      <td>0</td>\n      <td>PC 17599</td>\n      <td>71.2833</td>\n      <td>C85</td>\n      <td>C</td>\n    </tr>\n    <tr>\n      <th>2</th>\n      <td>3</td>\n      <td>1</td>\n      <td>3</td>\n      <td>Heikkinen, Miss. Laina</td>\n      <td>female</td>\n      <td>26.0</td>\n      <td>0</td>\n      <td>0</td>\n      <td>STON/O2. 3101282</td>\n      <td>7.9250</td>\n      <td>NaN</td>\n      <td>S</td>\n    </tr>\n    <tr>\n      <th>3</th>\n      <td>4</td>\n      <td>1</td>\n      <td>1</td>\n      <td>Futrelle, Mrs. Jacques Heath (Lily May Peel)</td>\n      <td>female</td>\n      <td>35.0</td>\n      <td>1</td>\n      <td>0</td>\n      <td>113803</td>\n      <td>53.1000</td>\n      <td>C123</td>\n      <td>S</td>\n    </tr>\n    <tr>\n      <th>4</th>\n      <td>5</td>\n      <td>0</td>\n      <td>3</td>\n      <td>Allen, Mr. William Henry</td>\n      <td>male</td>\n      <td>35.0</td>\n      <td>0</td>\n      <td>0</td>\n      <td>373450</td>\n      <td>8.0500</td>\n      <td>NaN</td>\n      <td>S</td>\n    </tr>\n  </tbody>\n</table>\n</div>"
          },
          "metadata": {}
        }
      ],
      "execution_count": 6,
      "metadata": {
        "gather": {
          "logged": 1706067799657
        }
      }
    },
    {
      "cell_type": "markdown",
      "source": [
        "# Split Train and Test Data"
      ],
      "metadata": {
        "nteract": {
          "transient": {
            "deleting": false
          }
        }
      }
    },
    {
      "cell_type": "code",
      "source": [
        "msk = np.random.rand(len(pd_data_frame)) < .8\n",
        "\n",
        "train_data = pd_data_frame[msk]\n",
        "test_data = pd_data_frame[~msk]\n",
        "\n",
        "train_data.to_csv('./data/training_data.csv', index=False)\n",
        "test_data.to_csv('./data/testing_data.csv', index=False)\n",
        "\n",
        "train_data.head()"
      ],
      "outputs": [
        {
          "output_type": "execute_result",
          "execution_count": 8,
          "data": {
            "text/plain": "   PassengerId  Survived  Pclass  \\\n0            1         0       3   \n1            2         1       1   \n2            3         1       3   \n3            4         1       1   \n6            7         0       1   \n\n                                                Name     Sex   Age  SibSp  \\\n0                            Braund, Mr. Owen Harris    male  22.0      1   \n1  Cumings, Mrs. John Bradley (Florence Briggs Th...  female  38.0      1   \n2                             Heikkinen, Miss. Laina  female  26.0      0   \n3       Futrelle, Mrs. Jacques Heath (Lily May Peel)  female  35.0      1   \n6                            McCarthy, Mr. Timothy J    male  54.0      0   \n\n   Parch            Ticket     Fare Cabin Embarked  \n0      0         A/5 21171   7.2500   NaN        S  \n1      0          PC 17599  71.2833   C85        C  \n2      0  STON/O2. 3101282   7.9250   NaN        S  \n3      0            113803  53.1000  C123        S  \n6      0             17463  51.8625   E46        S  ",
            "text/html": "<div>\n<style scoped>\n    .dataframe tbody tr th:only-of-type {\n        vertical-align: middle;\n    }\n\n    .dataframe tbody tr th {\n        vertical-align: top;\n    }\n\n    .dataframe thead th {\n        text-align: right;\n    }\n</style>\n<table border=\"1\" class=\"dataframe\">\n  <thead>\n    <tr style=\"text-align: right;\">\n      <th></th>\n      <th>PassengerId</th>\n      <th>Survived</th>\n      <th>Pclass</th>\n      <th>Name</th>\n      <th>Sex</th>\n      <th>Age</th>\n      <th>SibSp</th>\n      <th>Parch</th>\n      <th>Ticket</th>\n      <th>Fare</th>\n      <th>Cabin</th>\n      <th>Embarked</th>\n    </tr>\n  </thead>\n  <tbody>\n    <tr>\n      <th>0</th>\n      <td>1</td>\n      <td>0</td>\n      <td>3</td>\n      <td>Braund, Mr. Owen Harris</td>\n      <td>male</td>\n      <td>22.0</td>\n      <td>1</td>\n      <td>0</td>\n      <td>A/5 21171</td>\n      <td>7.2500</td>\n      <td>NaN</td>\n      <td>S</td>\n    </tr>\n    <tr>\n      <th>1</th>\n      <td>2</td>\n      <td>1</td>\n      <td>1</td>\n      <td>Cumings, Mrs. John Bradley (Florence Briggs Th...</td>\n      <td>female</td>\n      <td>38.0</td>\n      <td>1</td>\n      <td>0</td>\n      <td>PC 17599</td>\n      <td>71.2833</td>\n      <td>C85</td>\n      <td>C</td>\n    </tr>\n    <tr>\n      <th>2</th>\n      <td>3</td>\n      <td>1</td>\n      <td>3</td>\n      <td>Heikkinen, Miss. Laina</td>\n      <td>female</td>\n      <td>26.0</td>\n      <td>0</td>\n      <td>0</td>\n      <td>STON/O2. 3101282</td>\n      <td>7.9250</td>\n      <td>NaN</td>\n      <td>S</td>\n    </tr>\n    <tr>\n      <th>3</th>\n      <td>4</td>\n      <td>1</td>\n      <td>1</td>\n      <td>Futrelle, Mrs. Jacques Heath (Lily May Peel)</td>\n      <td>female</td>\n      <td>35.0</td>\n      <td>1</td>\n      <td>0</td>\n      <td>113803</td>\n      <td>53.1000</td>\n      <td>C123</td>\n      <td>S</td>\n    </tr>\n    <tr>\n      <th>6</th>\n      <td>7</td>\n      <td>0</td>\n      <td>1</td>\n      <td>McCarthy, Mr. Timothy J</td>\n      <td>male</td>\n      <td>54.0</td>\n      <td>0</td>\n      <td>0</td>\n      <td>17463</td>\n      <td>51.8625</td>\n      <td>E46</td>\n      <td>S</td>\n    </tr>\n  </tbody>\n</table>\n</div>"
          },
          "metadata": {}
        }
      ],
      "execution_count": 8,
      "metadata": {
        "jupyter": {
          "source_hidden": false,
          "outputs_hidden": false
        },
        "nteract": {
          "transient": {
            "deleting": false
          }
        },
        "gather": {
          "logged": 1706067831078
        }
      }
    },
    {
      "cell_type": "markdown",
      "source": [
        "# Instantiate Dataset Class for Easy Manipulation\n",
        "Cleans the data by:\n",
        "removing all columns but the relevant features\n",
        "removing rows with null features\n",
        "replacing binary or categorical characteristics with numeric representations"
      ],
      "metadata": {
        "nteract": {
          "transient": {
            "deleting": false
          }
        }
      }
    },
    {
      "cell_type": "code",
      "source": [
        "class TitanicDataset(Dataset):\n",
        "    def __init__(self, data_file):\n",
        "        # load data from CSV\n",
        "        data_frame = pd.read_csv(data_file)\n",
        "\n",
        "        # data preperation\n",
        "        data_frame = data_frame[['Survived', 'Sex', 'Age', 'Pclass']]\n",
        "        data_frame = data_frame.dropna() # drops rows with None or NaN values\n",
        "        \n",
        "        data_frame['Sex'] = data_frame['Sex'].replace(['male', 'female'], [1,0])\n",
        "        data_frame['Survived'] = data_frame['Survived'].replace([True, False], [1,0])\n",
        "\n",
        "        # Turned out not to be needed, but may be useful\n",
        "        #data_frame['Age'] = data_frame['Age'] / data_frame['Age'].abs().max()\n",
        "        #data_frame['PClass'] = data_frame['PClass'] / data_frame['PClass'].abs.max()\n",
        "\n",
        "        self.data_frame = data_frame\n",
        "\n",
        "    def __len__(self):\n",
        "        return len(self.data_frame)\n",
        "\n",
        "    def __getItem__(self, idx):\n",
        "        features = torch.tensor(self.data_frame.iloc[idx, [1,2,3]].values, dtype=torch.float)\n",
        "        label = torch.tensor(self.data_frame.iloc[idx, 0], dtype=torch.float)\n",
        "        return features, label"
      ],
      "outputs": [],
      "execution_count": 12,
      "metadata": {
        "jupyter": {
          "source_hidden": false,
          "outputs_hidden": false
        },
        "nteract": {
          "transient": {
            "deleting": false
          }
        },
        "gather": {
          "logged": 1706067930794
        }
      }
    },
    {
      "cell_type": "markdown",
      "source": [
        "# Instantiate dataset and Test Output"
      ],
      "metadata": {
        "nteract": {
          "transient": {
            "deleting": false
          }
        }
      }
    },
    {
      "cell_type": "code",
      "source": [
        "dataset =  TitanicDataset('./data/training_data.csv')\n",
        "dataset.data_frame.head()"
      ],
      "outputs": [
        {
          "output_type": "execute_result",
          "execution_count": 24,
          "data": {
            "text/plain": "   Survived  Sex   Age  Pclass\n0         0    1  22.0       3\n1         1    0  38.0       1\n2         1    0  26.0       3\n3         1    0  35.0       1\n4         0    1  54.0       1",
            "text/html": "<div>\n<style scoped>\n    .dataframe tbody tr th:only-of-type {\n        vertical-align: middle;\n    }\n\n    .dataframe tbody tr th {\n        vertical-align: top;\n    }\n\n    .dataframe thead th {\n        text-align: right;\n    }\n</style>\n<table border=\"1\" class=\"dataframe\">\n  <thead>\n    <tr style=\"text-align: right;\">\n      <th></th>\n      <th>Survived</th>\n      <th>Sex</th>\n      <th>Age</th>\n      <th>Pclass</th>\n    </tr>\n  </thead>\n  <tbody>\n    <tr>\n      <th>0</th>\n      <td>0</td>\n      <td>1</td>\n      <td>22.0</td>\n      <td>3</td>\n    </tr>\n    <tr>\n      <th>1</th>\n      <td>1</td>\n      <td>0</td>\n      <td>38.0</td>\n      <td>1</td>\n    </tr>\n    <tr>\n      <th>2</th>\n      <td>1</td>\n      <td>0</td>\n      <td>26.0</td>\n      <td>3</td>\n    </tr>\n    <tr>\n      <th>3</th>\n      <td>1</td>\n      <td>0</td>\n      <td>35.0</td>\n      <td>1</td>\n    </tr>\n    <tr>\n      <th>4</th>\n      <td>0</td>\n      <td>1</td>\n      <td>54.0</td>\n      <td>1</td>\n    </tr>\n  </tbody>\n</table>\n</div>"
          },
          "metadata": {}
        }
      ],
      "execution_count": 24,
      "metadata": {
        "jupyter": {
          "source_hidden": false,
          "outputs_hidden": false
        },
        "nteract": {
          "transient": {
            "deleting": false
          }
        },
        "gather": {
          "logged": 1706068404533
        }
      }
    },
    {
      "cell_type": "markdown",
      "source": [
        "# Create a Model Class"
      ],
      "metadata": {
        "nteract": {
          "transient": {
            "deleting": false
          }
        }
      }
    },
    {
      "cell_type": "code",
      "source": [
        "class BinaryClassifier(nn.Module):\n",
        "    def __init__(self):\n",
        "        super(BinaryClassifier, self).__init__()\n",
        "        self.layer1 = nn.Linear(3, 16)\n",
        "        self.layer2 = nn.Linear(16, 16)\n",
        "        self.layer3 = nn.Linear(16, 1)\n",
        "        self.signmoid = nn.Sigmoid()\n",
        "\n",
        "    def forward(self, x):\n",
        "        x = torch.relu(self.layer1(x))\n",
        "        x = torch.relu(self.layer2(x))\n",
        "        x = torch.sigmoid(self.layer3(x))\n",
        "        return x"
      ],
      "outputs": [],
      "execution_count": 27,
      "metadata": {
        "jupyter": {
          "source_hidden": false,
          "outputs_hidden": false
        },
        "nteract": {
          "transient": {
            "deleting": false
          }
        },
        "gather": {
          "logged": 1706068490826
        }
      }
    },
    {
      "cell_type": "markdown",
      "source": [
        "# Training"
      ],
      "metadata": {
        "nteract": {
          "transient": {
            "deleting": false
          }
        }
      }
    },
    {
      "cell_type": "code",
      "source": [
        "def train_model(data_frame, model, total_epochs=50):\n",
        "    criterion = nn.BCELoss()\n",
        "    optimizer = optim.Adam(model.parameters(), lr=0.001) # try SGD too\n",
        "\n",
        "    for epoch in range(total_epochs):\n",
        "        for _, row in data_frame.iterrows():\n",
        "            # Convert row to a tensor and extra dimension\n",
        "            x = torch.Tensor(row[['Sex', 'Age', 'Pclass']].values).view(1, -1)#.unsqueeze(0)\n",
        "            y = torch.Tensor([row['Survived']]).unsqueeze(0) # change this to view to make sure you're understanding what is happening\n",
        "\n",
        "            optimizer.zero_grad()\n",
        "            output = model(x)\n",
        "            loss = criterion(output, y)\n",
        "            loss.backward()\n",
        "            optimizer.step()\n",
        "\n",
        "        print(f'Epoch {epoch + 1}/{total_epochs} Loss: {loss.item()}')\n",
        "\n",
        "model = BinaryClassifier()\n",
        "train_model(dataset.data_frame, model)"
      ],
      "outputs": [
        {
          "output_type": "stream",
          "name": "stdout",
          "text": "Epoch 0/50 Loss: 0.5587952733039856\nEpoch 1/50 Loss: 0.5156165957450867\nEpoch 2/50 Loss: 0.4973379671573639\nEpoch 3/50 Loss: 0.43688634037971497\nEpoch 4/50 Loss: 0.3568241596221924\nEpoch 5/50 Loss: 0.2867208421230316\nEpoch 6/50 Loss: 0.23886951804161072\nEpoch 7/50 Loss: 0.20660677552223206\nEpoch 8/50 Loss: 0.18851670622825623\nEpoch 9/50 Loss: 0.1754479706287384\nEpoch 10/50 Loss: 0.16513466835021973\nEpoch 11/50 Loss: 0.15754011273384094\nEpoch 12/50 Loss: 0.15125973522663116\nEpoch 13/50 Loss: 0.14581888914108276\nEpoch 14/50 Loss: 0.1413525640964508\nEpoch 15/50 Loss: 0.1373540163040161\nEpoch 16/50 Loss: 0.13385212421417236\nEpoch 17/50 Loss: 0.13030681014060974\nEpoch 18/50 Loss: 0.1270875632762909\nEpoch 19/50 Loss: 0.12408927828073502\nEpoch 20/50 Loss: 0.12141433358192444\nEpoch 21/50 Loss: 0.11919459700584412\nEpoch 22/50 Loss: 0.10458424687385559\nEpoch 23/50 Loss: 0.109219029545784\nEpoch 24/50 Loss: 0.10687670856714249\nEpoch 25/50 Loss: 0.10394314676523209\nEpoch 26/50 Loss: 0.10287203639745712\nEpoch 27/50 Loss: 0.10053636133670807\nEpoch 28/50 Loss: 0.09801337867975235\nEpoch 29/50 Loss: 0.09589111059904099\nEpoch 30/50 Loss: 0.09410302340984344\nEpoch 31/50 Loss: 0.0957169160246849\nEpoch 32/50 Loss: 0.09369906038045883\nEpoch 33/50 Loss: 0.08345144987106323\nEpoch 34/50 Loss: 0.08183452486991882\nEpoch 35/50 Loss: 0.08619138598442078\nEpoch 36/50 Loss: 0.08703413605690002\nEpoch 37/50 Loss: 0.08377782255411148\nEpoch 38/50 Loss: 0.08377020061016083\nEpoch 39/50 Loss: 0.08546076714992523\nEpoch 40/50 Loss: 0.08627716451883316\nEpoch 41/50 Loss: 0.08884784579277039\nEpoch 42/50 Loss: 0.09242509305477142\nEpoch 43/50 Loss: 0.09176918864250183\nEpoch 44/50 Loss: 0.09134988486766815\nEpoch 45/50 Loss: 0.08989710360765457\nEpoch 46/50 Loss: 0.08526390045881271\nEpoch 47/50 Loss: 0.0946676954627037\nEpoch 48/50 Loss: 0.0883323922753334\nEpoch 49/50 Loss: 0.09049908816814423\n"
        }
      ],
      "execution_count": 28,
      "metadata": {
        "jupyter": {
          "source_hidden": false,
          "outputs_hidden": false
        },
        "nteract": {
          "transient": {
            "deleting": false
          }
        },
        "gather": {
          "logged": 1706068535650
        }
      }
    },
    {
      "cell_type": "markdown",
      "source": [
        "# Calculate Accuracy with Test Data"
      ],
      "metadata": {
        "nteract": {
          "transient": {
            "deleting": false
          }
        }
      }
    },
    {
      "cell_type": "code",
      "source": [
        "testing_data = TitanicDataset('./data/testing_data.csv')\n",
        "correct_preddictions = 0\n",
        "\n",
        "for _, row in testing_data.data_frame.iterrows():\n",
        "    x = torch.Tensor(row[['Sex', 'Age', 'Pclass']].values).view(1,-1)\n",
        "    output = model(x)\n",
        "    prediction = round(output.item())\n",
        "    if prediction == row['Survived']:\n",
        "        correct_preddictions += 1\n",
        "\n",
        "print(f'Accuracy: {correct_preddictions / len(testing_data)}')"
      ],
      "outputs": [
        {
          "output_type": "stream",
          "name": "stdout",
          "text": "Accuracy: 0.8518518518518519\n"
        }
      ],
      "execution_count": 32,
      "metadata": {
        "jupyter": {
          "source_hidden": false,
          "outputs_hidden": false
        },
        "nteract": {
          "transient": {
            "deleting": false
          }
        },
        "gather": {
          "logged": 1706068885714
        }
      }
    },
    {
      "cell_type": "markdown",
      "source": [
        "# Save the Model"
      ],
      "metadata": {
        "nteract": {
          "transient": {
            "deleting": false
          }
        }
      }
    },
    {
      "cell_type": "code",
      "source": [
        "torch.save(model.state_dict(), './models/Adam_BCELoss_lr_001.pth')"
      ],
      "outputs": [],
      "execution_count": 34,
      "metadata": {
        "jupyter": {
          "source_hidden": false,
          "outputs_hidden": false
        },
        "nteract": {
          "transient": {
            "deleting": false
          }
        },
        "gather": {
          "logged": 1706068916359
        }
      }
    },
    {
      "cell_type": "markdown",
      "source": [
        "# Load the Model"
      ],
      "metadata": {
        "nteract": {
          "transient": {
            "deleting": false
          }
        }
      }
    },
    {
      "cell_type": "code",
      "source": [
        "model = BinaryClassifier()\n",
        "model.load_state_dict(torch.load('./models/Adam_BCELoss_lr_001.pth'))"
      ],
      "outputs": [
        {
          "output_type": "execute_result",
          "execution_count": 35,
          "data": {
            "text/plain": "<All keys matched successfully>"
          },
          "metadata": {}
        }
      ],
      "execution_count": 35,
      "metadata": {
        "jupyter": {
          "source_hidden": false,
          "outputs_hidden": false
        },
        "nteract": {
          "transient": {
            "deleting": false
          }
        },
        "gather": {
          "logged": 1706068918090
        }
      }
    },
    {
      "cell_type": "markdown",
      "source": [
        "# Make Predictions"
      ],
      "metadata": {
        "nteract": {
          "transient": {
            "deleting": false
          }
        }
      }
    },
    {
      "cell_type": "code",
      "source": [
        "sex = 0\n",
        "age = 10.0\n",
        "p_class = 3\n",
        "\n",
        "while True:\n",
        "    # Convert features to a PyTorch Tensor\n",
        "    feature_tensor = torch.Tensor([sex, age, p_class])\n",
        "\n",
        "    # make prediction\n",
        "    output = model(feature_tensor)\n",
        "\n",
        "    # round the number to the nearest boolean\n",
        "    percent_probability = math.ceil(output.item() * 100)\n",
        "    prediction = round(output.item())\n",
        "\n",
        "    if (prediction > .5):\n",
        "        print('\\nSurvived')\n",
        "        print(f'Confidence: {percent_probability}')\n",
        "    else:\n",
        "        print('\\nDied')\n",
        "        print(f'Confidence: {100 - percent_probability}')\n",
        "\n",
        "    sex = int(input('Enter sex(0 = female, 1 = male): '))\n",
        "    age = float(input('Enter age: '))\n",
        "    p_class = int(input('Enter passanger class (values = 1, 2, 3): '))\n",
        "    "
      ],
      "outputs": [],
      "execution_count": null,
      "metadata": {
        "jupyter": {
          "source_hidden": false,
          "outputs_hidden": false
        },
        "nteract": {
          "transient": {
            "deleting": false
          }
        }
      }
    }
  ],
  "metadata": {
    "kernelspec": {
      "name": "python310-sdkv2",
      "language": "python",
      "display_name": "Python 3.10 - SDK v2"
    },
    "language_info": {
      "name": "python",
      "version": "3.10.11",
      "mimetype": "text/x-python",
      "codemirror_mode": {
        "name": "ipython",
        "version": 3
      },
      "pygments_lexer": "ipython3",
      "nbconvert_exporter": "python",
      "file_extension": ".py"
    },
    "microsoft": {
      "ms_spell_check": {
        "ms_spell_check_language": "en"
      },
      "host": {
        "AzureML": {
          "notebookHasBeenCompleted": true
        }
      }
    },
    "kernel_info": {
      "name": "python310-sdkv2"
    },
    "nteract": {
      "version": "nteract-front-end@1.0.0"
    }
  },
  "nbformat": 4,
  "nbformat_minor": 2
}